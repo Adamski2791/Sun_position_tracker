{
 "cells": [
  {
   "cell_type": "code",
   "execution_count": null,
   "id": "b5f9e30c",
   "metadata": {},
   "outputs": [],
   "source": [
    "import ephem\n",
    "import time\n",
    "\n",
    "def calculate_sun_position(date, latitude, longitude):\n",
    "    observer = ephem.Observer()\n",
    "    observer.lat = str(latitude)\n",
    "    observer.lon = str(longitude)\n",
    "    observer.elev = 0  # Set the observer's elevation (assumed to be at ground level)\n",
    "\n",
    "    sun = ephem.Sun()\n",
    "    observer.date = date  # Set the date and time for which you want to calculate the sun's position\n",
    "\n",
    "    sun.compute(observer)\n",
    "\n",
    "    azimuth = float(sun.az)  # Azimuth in radians\n",
    "    altitude = float(sun.alt)  # Altitude in radians\n",
    "\n",
    "    return azimuth, altitude\n",
    "\n",
    "# Updated coordinates for Victoria Square, Belfast, UK\n",
    "latitude = 54.59829051999089\n",
    "longitude = -5.925160675531965\n",
    "\n",
    "# Example usage:\n",
    "start_date = ephem.Date('2023-06-21 12:00:00')  # Start date and time\n",
    "duration = 60 * 60  # Duration in seconds (1 hour)\n",
    "\n",
    "end_date = start_date + duration\n",
    "\n",
    "current_date = start_date\n",
    "\n",
    "while current_date < end_date:\n",
    "    azimuth, altitude = calculate_sun_position(current_date, latitude, longitude)\n",
    "\n",
    "    azimuth_degrees = ephem.degrees(azimuth).znorm * 360\n",
    "    altitude_degrees = ephem.degrees(altitude).znorm * 360\n",
    "\n",
    "    print(\"Sun's position at {}: Azimuth: {:.2f}°, Altitude: {:.2f}°\".format(current_date, azimuth_degrees, altitude_degrees))\n",
    "\n",
    "    # Wait for 15 minutes before the next calculation\n",
    "    time.sleep(900)  # 900 seconds = 15 minutes\n",
    "\n",
    "    # Increment the current date by 15 minutes\n",
    "    current_date += ephem.minute * 15\n"
   ]
  }
 ],
 "metadata": {
  "kernelspec": {
   "display_name": "Python 3 (ipykernel)",
   "language": "python",
   "name": "python3"
  },
  "language_info": {
   "codemirror_mode": {
    "name": "ipython",
    "version": 3
   },
   "file_extension": ".py",
   "mimetype": "text/x-python",
   "name": "python",
   "nbconvert_exporter": "python",
   "pygments_lexer": "ipython3",
   "version": "3.9.7"
  }
 },
 "nbformat": 4,
 "nbformat_minor": 5
}
